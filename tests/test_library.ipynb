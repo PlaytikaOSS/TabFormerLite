{
 "cells": [
  {
   "cell_type": "code",
   "execution_count": 1,
   "metadata": {
    "collapsed": true
   },
   "outputs": [],
   "source": [
    "import pandas as pd\n",
    "import numpy as np"
   ]
  },
  {
   "cell_type": "code",
   "execution_count": null,
   "outputs": [],
   "source": [],
   "metadata": {
    "collapsed": false
   }
  },
  {
   "cell_type": "code",
   "execution_count": 9,
   "outputs": [],
   "source": [
    "full_data = pd.read_csv('/Users/yvesl/Downloads/card_transaction.v1.csv')"
   ],
   "metadata": {
    "collapsed": false
   }
  },
  {
   "cell_type": "code",
   "execution_count": 10,
   "outputs": [
    {
     "data": {
      "text/plain": "(24386900, 15)"
     },
     "execution_count": 10,
     "metadata": {},
     "output_type": "execute_result"
    }
   ],
   "source": [
    "full_data.shape"
   ],
   "metadata": {
    "collapsed": false
   }
  },
  {
   "cell_type": "code",
   "execution_count": 11,
   "outputs": [],
   "source": [
    "l = full_data.groupby(\"User\").count()"
   ],
   "metadata": {
    "collapsed": false
   }
  },
  {
   "cell_type": "code",
   "execution_count": 14,
   "outputs": [
    {
     "data": {
      "text/plain": "       Card   Year  Month    Day   Time  Amount  Use Chip  Merchant Name  \\\nUser                                                                       \n0     19963  19963  19963  19963  19963   19963     19963          19963   \n1      8919   8919   8919   8919   8919    8919      8919           8919   \n2     41978  41978  41978  41978  41978   41978     41978          41978   \n3     10117  10117  10117  10117  10117   10117     10117          10117   \n4     18542  18542  18542  18542  18542   18542     18542          18542   \n...     ...    ...    ...    ...    ...     ...       ...            ...   \n1995  14713  14713  14713  14713  14713   14713     14713          14713   \n1996  18012  18012  18012  18012  18012   18012     18012          18012   \n1997  21607  21607  21607  21607  21607   21607     21607          21607   \n1998   5782   5782   5782   5782   5782    5782      5782           5782   \n1999   4761   4761   4761   4761   4761    4761      4761           4761   \n\n      Merchant City  Merchant State    Zip    MCC  Errors?  Is Fraud?  \nUser                                                                   \n0             19963           18646  18316  19963      574      19963  \n1              8919            8249   8167   8919      146       8919  \n2             41978           25573  25359  41978      666      41978  \n3             10117            9121   8113  10117       96      10117  \n4             18542           16305  16080  18542      215      18542  \n...             ...             ...    ...    ...      ...        ...  \n1995          14713           14247  14227  14713      139      14713  \n1996          18012           16211  15871  18012      251      18012  \n1997          21607           20448  20289  21607      213      21607  \n1998           5782            5012   4930   5782       56       5782  \n1999           4761            3444   3384   4761       42       4761  \n\n[2000 rows x 14 columns]",
      "text/html": "<div>\n<style scoped>\n    .dataframe tbody tr th:only-of-type {\n        vertical-align: middle;\n    }\n\n    .dataframe tbody tr th {\n        vertical-align: top;\n    }\n\n    .dataframe thead th {\n        text-align: right;\n    }\n</style>\n<table border=\"1\" class=\"dataframe\">\n  <thead>\n    <tr style=\"text-align: right;\">\n      <th></th>\n      <th>Card</th>\n      <th>Year</th>\n      <th>Month</th>\n      <th>Day</th>\n      <th>Time</th>\n      <th>Amount</th>\n      <th>Use Chip</th>\n      <th>Merchant Name</th>\n      <th>Merchant City</th>\n      <th>Merchant State</th>\n      <th>Zip</th>\n      <th>MCC</th>\n      <th>Errors?</th>\n      <th>Is Fraud?</th>\n    </tr>\n    <tr>\n      <th>User</th>\n      <th></th>\n      <th></th>\n      <th></th>\n      <th></th>\n      <th></th>\n      <th></th>\n      <th></th>\n      <th></th>\n      <th></th>\n      <th></th>\n      <th></th>\n      <th></th>\n      <th></th>\n      <th></th>\n    </tr>\n  </thead>\n  <tbody>\n    <tr>\n      <th>0</th>\n      <td>19963</td>\n      <td>19963</td>\n      <td>19963</td>\n      <td>19963</td>\n      <td>19963</td>\n      <td>19963</td>\n      <td>19963</td>\n      <td>19963</td>\n      <td>19963</td>\n      <td>18646</td>\n      <td>18316</td>\n      <td>19963</td>\n      <td>574</td>\n      <td>19963</td>\n    </tr>\n    <tr>\n      <th>1</th>\n      <td>8919</td>\n      <td>8919</td>\n      <td>8919</td>\n      <td>8919</td>\n      <td>8919</td>\n      <td>8919</td>\n      <td>8919</td>\n      <td>8919</td>\n      <td>8919</td>\n      <td>8249</td>\n      <td>8167</td>\n      <td>8919</td>\n      <td>146</td>\n      <td>8919</td>\n    </tr>\n    <tr>\n      <th>2</th>\n      <td>41978</td>\n      <td>41978</td>\n      <td>41978</td>\n      <td>41978</td>\n      <td>41978</td>\n      <td>41978</td>\n      <td>41978</td>\n      <td>41978</td>\n      <td>41978</td>\n      <td>25573</td>\n      <td>25359</td>\n      <td>41978</td>\n      <td>666</td>\n      <td>41978</td>\n    </tr>\n    <tr>\n      <th>3</th>\n      <td>10117</td>\n      <td>10117</td>\n      <td>10117</td>\n      <td>10117</td>\n      <td>10117</td>\n      <td>10117</td>\n      <td>10117</td>\n      <td>10117</td>\n      <td>10117</td>\n      <td>9121</td>\n      <td>8113</td>\n      <td>10117</td>\n      <td>96</td>\n      <td>10117</td>\n    </tr>\n    <tr>\n      <th>4</th>\n      <td>18542</td>\n      <td>18542</td>\n      <td>18542</td>\n      <td>18542</td>\n      <td>18542</td>\n      <td>18542</td>\n      <td>18542</td>\n      <td>18542</td>\n      <td>18542</td>\n      <td>16305</td>\n      <td>16080</td>\n      <td>18542</td>\n      <td>215</td>\n      <td>18542</td>\n    </tr>\n    <tr>\n      <th>...</th>\n      <td>...</td>\n      <td>...</td>\n      <td>...</td>\n      <td>...</td>\n      <td>...</td>\n      <td>...</td>\n      <td>...</td>\n      <td>...</td>\n      <td>...</td>\n      <td>...</td>\n      <td>...</td>\n      <td>...</td>\n      <td>...</td>\n      <td>...</td>\n    </tr>\n    <tr>\n      <th>1995</th>\n      <td>14713</td>\n      <td>14713</td>\n      <td>14713</td>\n      <td>14713</td>\n      <td>14713</td>\n      <td>14713</td>\n      <td>14713</td>\n      <td>14713</td>\n      <td>14713</td>\n      <td>14247</td>\n      <td>14227</td>\n      <td>14713</td>\n      <td>139</td>\n      <td>14713</td>\n    </tr>\n    <tr>\n      <th>1996</th>\n      <td>18012</td>\n      <td>18012</td>\n      <td>18012</td>\n      <td>18012</td>\n      <td>18012</td>\n      <td>18012</td>\n      <td>18012</td>\n      <td>18012</td>\n      <td>18012</td>\n      <td>16211</td>\n      <td>15871</td>\n      <td>18012</td>\n      <td>251</td>\n      <td>18012</td>\n    </tr>\n    <tr>\n      <th>1997</th>\n      <td>21607</td>\n      <td>21607</td>\n      <td>21607</td>\n      <td>21607</td>\n      <td>21607</td>\n      <td>21607</td>\n      <td>21607</td>\n      <td>21607</td>\n      <td>21607</td>\n      <td>20448</td>\n      <td>20289</td>\n      <td>21607</td>\n      <td>213</td>\n      <td>21607</td>\n    </tr>\n    <tr>\n      <th>1998</th>\n      <td>5782</td>\n      <td>5782</td>\n      <td>5782</td>\n      <td>5782</td>\n      <td>5782</td>\n      <td>5782</td>\n      <td>5782</td>\n      <td>5782</td>\n      <td>5782</td>\n      <td>5012</td>\n      <td>4930</td>\n      <td>5782</td>\n      <td>56</td>\n      <td>5782</td>\n    </tr>\n    <tr>\n      <th>1999</th>\n      <td>4761</td>\n      <td>4761</td>\n      <td>4761</td>\n      <td>4761</td>\n      <td>4761</td>\n      <td>4761</td>\n      <td>4761</td>\n      <td>4761</td>\n      <td>4761</td>\n      <td>3444</td>\n      <td>3384</td>\n      <td>4761</td>\n      <td>42</td>\n      <td>4761</td>\n    </tr>\n  </tbody>\n</table>\n<p>2000 rows × 14 columns</p>\n</div>"
     },
     "execution_count": 14,
     "metadata": {},
     "output_type": "execute_result"
    }
   ],
   "source": [
    "l"
   ],
   "metadata": {
    "collapsed": false
   }
  },
  {
   "cell_type": "code",
   "execution_count": null,
   "outputs": [],
   "source": [],
   "metadata": {
    "collapsed": false
   }
  },
  {
   "cell_type": "code",
   "execution_count": 15,
   "outputs": [],
   "source": [
    "users_to_keep = [7, 11, 18, 21, 1568]"
   ],
   "metadata": {
    "collapsed": false
   }
  },
  {
   "cell_type": "code",
   "execution_count": 16,
   "outputs": [],
   "source": [
    "restricted_data = full_data[full_data[\"User\"].isin(users_to_keep)]"
   ],
   "metadata": {
    "collapsed": false
   }
  },
  {
   "cell_type": "code",
   "execution_count": 17,
   "outputs": [
    {
     "name": "stderr",
     "output_type": "stream",
     "text": [
      "/var/folders/zn/ss9ytrbx4b34290lc94kw7vm0000gq/T/ipykernel_26398/1097321282.py:1: SettingWithCopyWarning: \n",
      "A value is trying to be set on a copy of a slice from a DataFrame\n",
      "\n",
      "See the caveats in the documentation: https://pandas.pydata.org/pandas-docs/stable/user_guide/indexing.html#returning-a-view-versus-a-copy\n",
      "  restricted_data.loc[:, \"Errors?\"].fillna(value=\"None\", inplace=True)\n",
      "/var/folders/zn/ss9ytrbx4b34290lc94kw7vm0000gq/T/ipykernel_26398/1097321282.py:2: SettingWithCopyWarning: \n",
      "A value is trying to be set on a copy of a slice from a DataFrame\n",
      "\n",
      "See the caveats in the documentation: https://pandas.pydata.org/pandas-docs/stable/user_guide/indexing.html#returning-a-view-versus-a-copy\n",
      "  restricted_data.loc[:, \"Zip\"].fillna(value=0, inplace=True)\n",
      "/var/folders/zn/ss9ytrbx4b34290lc94kw7vm0000gq/T/ipykernel_26398/1097321282.py:3: SettingWithCopyWarning: \n",
      "A value is trying to be set on a copy of a slice from a DataFrame\n",
      "\n",
      "See the caveats in the documentation: https://pandas.pydata.org/pandas-docs/stable/user_guide/indexing.html#returning-a-view-versus-a-copy\n",
      "  restricted_data.loc[:, \"Merchant State\"].fillna(value=\"None\", inplace=True)\n"
     ]
    }
   ],
   "source": [
    "restricted_data.loc[:, \"Errors?\"].fillna(value=\"None\", inplace=True)\n",
    "restricted_data.loc[:, \"Zip\"].fillna(value=0, inplace=True)\n",
    "restricted_data.loc[:, \"Merchant State\"].fillna(value=\"None\", inplace=True)"
   ],
   "metadata": {
    "collapsed": false
   }
  },
  {
   "cell_type": "code",
   "execution_count": 18,
   "outputs": [
    {
     "data": {
      "text/plain": "User              0\nCard              0\nYear              0\nMonth             0\nDay               0\nTime              0\nAmount            0\nUse Chip          0\nMerchant Name     0\nMerchant City     0\nMerchant State    0\nZip               0\nMCC               0\nErrors?           0\nIs Fraud?         0\ndtype: int64"
     },
     "execution_count": 18,
     "metadata": {},
     "output_type": "execute_result"
    }
   ],
   "source": [
    "restricted_data.isna().sum().sort_values(ascending=False)"
   ],
   "metadata": {
    "collapsed": false
   }
  },
  {
   "cell_type": "code",
   "execution_count": 19,
   "outputs": [
    {
     "name": "stderr",
     "output_type": "stream",
     "text": [
      "/var/folders/zn/ss9ytrbx4b34290lc94kw7vm0000gq/T/ipykernel_26398/1386640218.py:1: SettingWithCopyWarning: \n",
      "A value is trying to be set on a copy of a slice from a DataFrame.\n",
      "Try using .loc[row_indexer,col_indexer] = value instead\n",
      "\n",
      "See the caveats in the documentation: https://pandas.pydata.org/pandas-docs/stable/user_guide/indexing.html#returning-a-view-versus-a-copy\n",
      "  restricted_data[\"Is Fraud?\"] = restricted_data[\"Is Fraud?\"].apply(lambda x: x == \"Yes\").astype(int)\n"
     ]
    }
   ],
   "source": [
    "restricted_data[\"Is Fraud?\"] = restricted_data[\"Is Fraud?\"].apply(lambda x: x == \"Yes\").astype(int)"
   ],
   "metadata": {
    "collapsed": false
   }
  },
  {
   "cell_type": "code",
   "execution_count": 20,
   "outputs": [
    {
     "name": "stderr",
     "output_type": "stream",
     "text": [
      "/var/folders/zn/ss9ytrbx4b34290lc94kw7vm0000gq/T/ipykernel_26398/986663744.py:2: SettingWithCopyWarning: \n",
      "A value is trying to be set on a copy of a slice from a DataFrame.\n",
      "Try using .loc[row_indexer,col_indexer] = value instead\n",
      "\n",
      "See the caveats in the documentation: https://pandas.pydata.org/pandas-docs/stable/user_guide/indexing.html#returning-a-view-versus-a-copy\n",
      "  restricted_data[\"Amount\"] = restricted_data[\"Amount\"].str.replace(\"$\", \"\", regex=True).astype(\"float\")\n",
      "/var/folders/zn/ss9ytrbx4b34290lc94kw7vm0000gq/T/ipykernel_26398/986663744.py:5: SettingWithCopyWarning: \n",
      "A value is trying to be set on a copy of a slice from a DataFrame.\n",
      "Try using .loc[row_indexer,col_indexer] = value instead\n",
      "\n",
      "See the caveats in the documentation: https://pandas.pydata.org/pandas-docs/stable/user_guide/indexing.html#returning-a-view-versus-a-copy\n",
      "  restricted_data[\"Amount\"] = restricted_data[\"Amount\"].apply(lambda x: max(0, x))\n",
      "/var/folders/zn/ss9ytrbx4b34290lc94kw7vm0000gq/T/ipykernel_26398/986663744.py:8: SettingWithCopyWarning: \n",
      "A value is trying to be set on a copy of a slice from a DataFrame.\n",
      "Try using .loc[row_indexer,col_indexer] = value instead\n",
      "\n",
      "See the caveats in the documentation: https://pandas.pydata.org/pandas-docs/stable/user_guide/indexing.html#returning-a-view-versus-a-copy\n",
      "  restricted_data[\"Amount\"] = np.log1p(restricted_data[\"Amount\"])\n"
     ]
    }
   ],
   "source": [
    "# Remove $ and convert to float\n",
    "restricted_data[\"Amount\"] = restricted_data[\"Amount\"].str.replace(\"$\", \"\", regex=True).astype(\"float\")\n",
    "\n",
    "# Set any negative amounts to zero\n",
    "restricted_data[\"Amount\"] = restricted_data[\"Amount\"].apply(lambda x: max(0, x))\n",
    "\n",
    "# Apply log-transformation\n",
    "restricted_data[\"Amount\"] = np.log1p(restricted_data[\"Amount\"])"
   ],
   "metadata": {
    "collapsed": false
   }
  },
  {
   "cell_type": "code",
   "execution_count": 21,
   "outputs": [
    {
     "data": {
      "text/plain": "          User  Card  Year  Month  Day   Time    Amount           Use Chip  \\\n149444       7     0  2020      1    1  06:05  2.086914  Swipe Transaction   \n149445       7     0  2020      1    1  08:46  1.508512  Swipe Transaction   \n149446       7     0  2020      1    1  11:20  2.164472  Swipe Transaction   \n149447       7     0  2020      1    1  11:35  3.257712  Swipe Transaction   \n149448       7     0  2020      1    1  21:11  2.691921  Swipe Transaction   \n...        ...   ...   ...    ...  ...    ...       ...                ...   \n19327343  1568     0  2007      8   30  23:06  3.582685  Swipe Transaction   \n19327344  1568     0  2007      8   31  11:55  4.165890  Swipe Transaction   \n19327345  1568     0  2007      8   31  12:22  4.393214  Swipe Transaction   \n19327346  1568     0  2007      8   31  16:25  3.716495  Swipe Transaction   \n19327347  1568     0  2007      8   31  22:25  4.068856  Swipe Transaction   \n\n                Merchant Name     Merchant City Merchant State      Zip   MCC  \\\n149444    2321783215064674866          Portland             OR  97214.0  5411   \n149445   -5162038175624867091          Portland             OR  97214.0  5541   \n149446    8919682822789039434          Portland             OR  97214.0  5814   \n149447    8919682822789039434          Portland             OR  97214.0  5814   \n149448     878534750241365141          Portland             OR  97216.0  5812   \n...                       ...               ...            ...      ...   ...   \n19327343    39884867954317504            Elyria             OH  44035.0  5211   \n19327344  5410442242122475105            Elyria             OH  44035.0  5300   \n19327345 -8197168601486490972            Elyria             OH  44035.0  5912   \n19327346 -5581123930363301609            Elyria             OH  44035.0  5311   \n19327347 -5904116920141006298  North Ridgeville             OH  44039.0  5719   \n\n         Errors?  Is Fraud?  \n149444      None          0  \n149445      None          0  \n149446      None          0  \n149447      None          0  \n149448      None          0  \n...          ...        ...  \n19327343    None          0  \n19327344    None          0  \n19327345    None          0  \n19327346    None          0  \n19327347    None          0  \n\n[1150 rows x 15 columns]",
      "text/html": "<div>\n<style scoped>\n    .dataframe tbody tr th:only-of-type {\n        vertical-align: middle;\n    }\n\n    .dataframe tbody tr th {\n        vertical-align: top;\n    }\n\n    .dataframe thead th {\n        text-align: right;\n    }\n</style>\n<table border=\"1\" class=\"dataframe\">\n  <thead>\n    <tr style=\"text-align: right;\">\n      <th></th>\n      <th>User</th>\n      <th>Card</th>\n      <th>Year</th>\n      <th>Month</th>\n      <th>Day</th>\n      <th>Time</th>\n      <th>Amount</th>\n      <th>Use Chip</th>\n      <th>Merchant Name</th>\n      <th>Merchant City</th>\n      <th>Merchant State</th>\n      <th>Zip</th>\n      <th>MCC</th>\n      <th>Errors?</th>\n      <th>Is Fraud?</th>\n    </tr>\n  </thead>\n  <tbody>\n    <tr>\n      <th>149444</th>\n      <td>7</td>\n      <td>0</td>\n      <td>2020</td>\n      <td>1</td>\n      <td>1</td>\n      <td>06:05</td>\n      <td>2.086914</td>\n      <td>Swipe Transaction</td>\n      <td>2321783215064674866</td>\n      <td>Portland</td>\n      <td>OR</td>\n      <td>97214.0</td>\n      <td>5411</td>\n      <td>None</td>\n      <td>0</td>\n    </tr>\n    <tr>\n      <th>149445</th>\n      <td>7</td>\n      <td>0</td>\n      <td>2020</td>\n      <td>1</td>\n      <td>1</td>\n      <td>08:46</td>\n      <td>1.508512</td>\n      <td>Swipe Transaction</td>\n      <td>-5162038175624867091</td>\n      <td>Portland</td>\n      <td>OR</td>\n      <td>97214.0</td>\n      <td>5541</td>\n      <td>None</td>\n      <td>0</td>\n    </tr>\n    <tr>\n      <th>149446</th>\n      <td>7</td>\n      <td>0</td>\n      <td>2020</td>\n      <td>1</td>\n      <td>1</td>\n      <td>11:20</td>\n      <td>2.164472</td>\n      <td>Swipe Transaction</td>\n      <td>8919682822789039434</td>\n      <td>Portland</td>\n      <td>OR</td>\n      <td>97214.0</td>\n      <td>5814</td>\n      <td>None</td>\n      <td>0</td>\n    </tr>\n    <tr>\n      <th>149447</th>\n      <td>7</td>\n      <td>0</td>\n      <td>2020</td>\n      <td>1</td>\n      <td>1</td>\n      <td>11:35</td>\n      <td>3.257712</td>\n      <td>Swipe Transaction</td>\n      <td>8919682822789039434</td>\n      <td>Portland</td>\n      <td>OR</td>\n      <td>97214.0</td>\n      <td>5814</td>\n      <td>None</td>\n      <td>0</td>\n    </tr>\n    <tr>\n      <th>149448</th>\n      <td>7</td>\n      <td>0</td>\n      <td>2020</td>\n      <td>1</td>\n      <td>1</td>\n      <td>21:11</td>\n      <td>2.691921</td>\n      <td>Swipe Transaction</td>\n      <td>878534750241365141</td>\n      <td>Portland</td>\n      <td>OR</td>\n      <td>97216.0</td>\n      <td>5812</td>\n      <td>None</td>\n      <td>0</td>\n    </tr>\n    <tr>\n      <th>...</th>\n      <td>...</td>\n      <td>...</td>\n      <td>...</td>\n      <td>...</td>\n      <td>...</td>\n      <td>...</td>\n      <td>...</td>\n      <td>...</td>\n      <td>...</td>\n      <td>...</td>\n      <td>...</td>\n      <td>...</td>\n      <td>...</td>\n      <td>...</td>\n      <td>...</td>\n    </tr>\n    <tr>\n      <th>19327343</th>\n      <td>1568</td>\n      <td>0</td>\n      <td>2007</td>\n      <td>8</td>\n      <td>30</td>\n      <td>23:06</td>\n      <td>3.582685</td>\n      <td>Swipe Transaction</td>\n      <td>39884867954317504</td>\n      <td>Elyria</td>\n      <td>OH</td>\n      <td>44035.0</td>\n      <td>5211</td>\n      <td>None</td>\n      <td>0</td>\n    </tr>\n    <tr>\n      <th>19327344</th>\n      <td>1568</td>\n      <td>0</td>\n      <td>2007</td>\n      <td>8</td>\n      <td>31</td>\n      <td>11:55</td>\n      <td>4.165890</td>\n      <td>Swipe Transaction</td>\n      <td>5410442242122475105</td>\n      <td>Elyria</td>\n      <td>OH</td>\n      <td>44035.0</td>\n      <td>5300</td>\n      <td>None</td>\n      <td>0</td>\n    </tr>\n    <tr>\n      <th>19327345</th>\n      <td>1568</td>\n      <td>0</td>\n      <td>2007</td>\n      <td>8</td>\n      <td>31</td>\n      <td>12:22</td>\n      <td>4.393214</td>\n      <td>Swipe Transaction</td>\n      <td>-8197168601486490972</td>\n      <td>Elyria</td>\n      <td>OH</td>\n      <td>44035.0</td>\n      <td>5912</td>\n      <td>None</td>\n      <td>0</td>\n    </tr>\n    <tr>\n      <th>19327346</th>\n      <td>1568</td>\n      <td>0</td>\n      <td>2007</td>\n      <td>8</td>\n      <td>31</td>\n      <td>16:25</td>\n      <td>3.716495</td>\n      <td>Swipe Transaction</td>\n      <td>-5581123930363301609</td>\n      <td>Elyria</td>\n      <td>OH</td>\n      <td>44035.0</td>\n      <td>5311</td>\n      <td>None</td>\n      <td>0</td>\n    </tr>\n    <tr>\n      <th>19327347</th>\n      <td>1568</td>\n      <td>0</td>\n      <td>2007</td>\n      <td>8</td>\n      <td>31</td>\n      <td>22:25</td>\n      <td>4.068856</td>\n      <td>Swipe Transaction</td>\n      <td>-5904116920141006298</td>\n      <td>North Ridgeville</td>\n      <td>OH</td>\n      <td>44039.0</td>\n      <td>5719</td>\n      <td>None</td>\n      <td>0</td>\n    </tr>\n  </tbody>\n</table>\n<p>1150 rows × 15 columns</p>\n</div>"
     },
     "execution_count": 21,
     "metadata": {},
     "output_type": "execute_result"
    }
   ],
   "source": [
    "restricted_data"
   ],
   "metadata": {
    "collapsed": false
   }
  },
  {
   "cell_type": "code",
   "execution_count": 21,
   "outputs": [],
   "source": [],
   "metadata": {
    "collapsed": false
   }
  },
  {
   "cell_type": "code",
   "execution_count": 22,
   "outputs": [
    {
     "name": "stderr",
     "output_type": "stream",
     "text": [
      "/var/folders/zn/ss9ytrbx4b34290lc94kw7vm0000gq/T/ipykernel_26398/2318818054.py:14: SettingWithCopyWarning: \n",
      "A value is trying to be set on a copy of a slice from a DataFrame.\n",
      "Try using .loc[row_indexer,col_indexer] = value instead\n",
      "\n",
      "See the caveats in the documentation: https://pandas.pydata.org/pandas-docs/stable/user_guide/indexing.html#returning-a-view-versus-a-copy\n",
      "  restricted_data[\"TimeStamp\"] = timeEncoder(restricted_data[[\"Year\", \"Month\", \"Day\", \"Time\"]])\n"
     ]
    }
   ],
   "source": [
    "# Unify datetime columns in a single \"TimeStamp\" column\n",
    "\n",
    "\n",
    "def timeEncoder(X):\n",
    "    X_hm = X[\"Time\"].str.split(\":\", expand=True)\n",
    "    d = pd.to_datetime(\n",
    "        dict(\n",
    "            year=X[\"Year\"], month=X[\"Month\"], day=X[\"Day\"], hour=X_hm[0], minute=X_hm[1]\n",
    "        )\n",
    "    ).astype(int)\n",
    "    return pd.DataFrame(d)\n",
    "\n",
    "\n",
    "restricted_data[\"TimeStamp\"] = timeEncoder(restricted_data[[\"Year\", \"Month\", \"Day\", \"Time\"]])"
   ],
   "metadata": {
    "collapsed": false
   }
  },
  {
   "cell_type": "code",
   "execution_count": 23,
   "outputs": [
    {
     "data": {
      "text/plain": "149444      1577858700000000000\n149445      1577868360000000000\n149446      1577877600000000000\n149447      1577878500000000000\n149448      1577913060000000000\n                   ...         \n19327343    1188515160000000000\n19327344    1188561300000000000\n19327345    1188562920000000000\n19327346    1188577500000000000\n19327347    1188599100000000000\nName: TimeStamp, Length: 1150, dtype: int64"
     },
     "execution_count": 23,
     "metadata": {},
     "output_type": "execute_result"
    }
   ],
   "source": [
    "restricted_data[\"TimeStamp\"]"
   ],
   "metadata": {
    "collapsed": false
   }
  },
  {
   "cell_type": "code",
   "execution_count": 24,
   "outputs": [
    {
     "name": "stderr",
     "output_type": "stream",
     "text": [
      "/var/folders/zn/ss9ytrbx4b34290lc94kw7vm0000gq/T/ipykernel_26398/3001020389.py:1: SettingWithCopyWarning: \n",
      "A value is trying to be set on a copy of a slice from a DataFrame.\n",
      "Try using .loc[row_indexer,col_indexer] = value instead\n",
      "\n",
      "See the caveats in the documentation: https://pandas.pydata.org/pandas-docs/stable/user_guide/indexing.html#returning-a-view-versus-a-copy\n",
      "  restricted_data[\"event_dt\"] = pd.to_datetime(\n"
     ]
    }
   ],
   "source": [
    "restricted_data[\"event_dt\"] = pd.to_datetime(\n",
    "    restricted_data[\"Year\"].astype(\"str\")\n",
    "    + \"-\"\n",
    "    + restricted_data[\"Month\"].astype(\"str\")\n",
    "    + \"-\"\n",
    "    + restricted_data[\"Day\"].astype(\"int\").astype(\"str\")\n",
    "    + \" \"\n",
    "    + restricted_data[\"Time\"],\n",
    "    format=\"%Y-%m-%d %H:%M\",\n",
    ")"
   ],
   "metadata": {
    "collapsed": false
   }
  },
  {
   "cell_type": "code",
   "execution_count": 25,
   "outputs": [
    {
     "data": {
      "text/plain": "          User  Card  Year  Month  Day   Time    Amount           Use Chip  \\\n149444       7     0  2020      1    1  06:05  2.086914  Swipe Transaction   \n149445       7     0  2020      1    1  08:46  1.508512  Swipe Transaction   \n149446       7     0  2020      1    1  11:20  2.164472  Swipe Transaction   \n149447       7     0  2020      1    1  11:35  3.257712  Swipe Transaction   \n149448       7     0  2020      1    1  21:11  2.691921  Swipe Transaction   \n...        ...   ...   ...    ...  ...    ...       ...                ...   \n19327343  1568     0  2007      8   30  23:06  3.582685  Swipe Transaction   \n19327344  1568     0  2007      8   31  11:55  4.165890  Swipe Transaction   \n19327345  1568     0  2007      8   31  12:22  4.393214  Swipe Transaction   \n19327346  1568     0  2007      8   31  16:25  3.716495  Swipe Transaction   \n19327347  1568     0  2007      8   31  22:25  4.068856  Swipe Transaction   \n\n                Merchant Name     Merchant City Merchant State      Zip   MCC  \\\n149444    2321783215064674866          Portland             OR  97214.0  5411   \n149445   -5162038175624867091          Portland             OR  97214.0  5541   \n149446    8919682822789039434          Portland             OR  97214.0  5814   \n149447    8919682822789039434          Portland             OR  97214.0  5814   \n149448     878534750241365141          Portland             OR  97216.0  5812   \n...                       ...               ...            ...      ...   ...   \n19327343    39884867954317504            Elyria             OH  44035.0  5211   \n19327344  5410442242122475105            Elyria             OH  44035.0  5300   \n19327345 -8197168601486490972            Elyria             OH  44035.0  5912   \n19327346 -5581123930363301609            Elyria             OH  44035.0  5311   \n19327347 -5904116920141006298  North Ridgeville             OH  44039.0  5719   \n\n         Errors?  Is Fraud?            TimeStamp            event_dt  \n149444      None          0  1577858700000000000 2020-01-01 06:05:00  \n149445      None          0  1577868360000000000 2020-01-01 08:46:00  \n149446      None          0  1577877600000000000 2020-01-01 11:20:00  \n149447      None          0  1577878500000000000 2020-01-01 11:35:00  \n149448      None          0  1577913060000000000 2020-01-01 21:11:00  \n...          ...        ...                  ...                 ...  \n19327343    None          0  1188515160000000000 2007-08-30 23:06:00  \n19327344    None          0  1188561300000000000 2007-08-31 11:55:00  \n19327345    None          0  1188562920000000000 2007-08-31 12:22:00  \n19327346    None          0  1188577500000000000 2007-08-31 16:25:00  \n19327347    None          0  1188599100000000000 2007-08-31 22:25:00  \n\n[1150 rows x 17 columns]",
      "text/html": "<div>\n<style scoped>\n    .dataframe tbody tr th:only-of-type {\n        vertical-align: middle;\n    }\n\n    .dataframe tbody tr th {\n        vertical-align: top;\n    }\n\n    .dataframe thead th {\n        text-align: right;\n    }\n</style>\n<table border=\"1\" class=\"dataframe\">\n  <thead>\n    <tr style=\"text-align: right;\">\n      <th></th>\n      <th>User</th>\n      <th>Card</th>\n      <th>Year</th>\n      <th>Month</th>\n      <th>Day</th>\n      <th>Time</th>\n      <th>Amount</th>\n      <th>Use Chip</th>\n      <th>Merchant Name</th>\n      <th>Merchant City</th>\n      <th>Merchant State</th>\n      <th>Zip</th>\n      <th>MCC</th>\n      <th>Errors?</th>\n      <th>Is Fraud?</th>\n      <th>TimeStamp</th>\n      <th>event_dt</th>\n    </tr>\n  </thead>\n  <tbody>\n    <tr>\n      <th>149444</th>\n      <td>7</td>\n      <td>0</td>\n      <td>2020</td>\n      <td>1</td>\n      <td>1</td>\n      <td>06:05</td>\n      <td>2.086914</td>\n      <td>Swipe Transaction</td>\n      <td>2321783215064674866</td>\n      <td>Portland</td>\n      <td>OR</td>\n      <td>97214.0</td>\n      <td>5411</td>\n      <td>None</td>\n      <td>0</td>\n      <td>1577858700000000000</td>\n      <td>2020-01-01 06:05:00</td>\n    </tr>\n    <tr>\n      <th>149445</th>\n      <td>7</td>\n      <td>0</td>\n      <td>2020</td>\n      <td>1</td>\n      <td>1</td>\n      <td>08:46</td>\n      <td>1.508512</td>\n      <td>Swipe Transaction</td>\n      <td>-5162038175624867091</td>\n      <td>Portland</td>\n      <td>OR</td>\n      <td>97214.0</td>\n      <td>5541</td>\n      <td>None</td>\n      <td>0</td>\n      <td>1577868360000000000</td>\n      <td>2020-01-01 08:46:00</td>\n    </tr>\n    <tr>\n      <th>149446</th>\n      <td>7</td>\n      <td>0</td>\n      <td>2020</td>\n      <td>1</td>\n      <td>1</td>\n      <td>11:20</td>\n      <td>2.164472</td>\n      <td>Swipe Transaction</td>\n      <td>8919682822789039434</td>\n      <td>Portland</td>\n      <td>OR</td>\n      <td>97214.0</td>\n      <td>5814</td>\n      <td>None</td>\n      <td>0</td>\n      <td>1577877600000000000</td>\n      <td>2020-01-01 11:20:00</td>\n    </tr>\n    <tr>\n      <th>149447</th>\n      <td>7</td>\n      <td>0</td>\n      <td>2020</td>\n      <td>1</td>\n      <td>1</td>\n      <td>11:35</td>\n      <td>3.257712</td>\n      <td>Swipe Transaction</td>\n      <td>8919682822789039434</td>\n      <td>Portland</td>\n      <td>OR</td>\n      <td>97214.0</td>\n      <td>5814</td>\n      <td>None</td>\n      <td>0</td>\n      <td>1577878500000000000</td>\n      <td>2020-01-01 11:35:00</td>\n    </tr>\n    <tr>\n      <th>149448</th>\n      <td>7</td>\n      <td>0</td>\n      <td>2020</td>\n      <td>1</td>\n      <td>1</td>\n      <td>21:11</td>\n      <td>2.691921</td>\n      <td>Swipe Transaction</td>\n      <td>878534750241365141</td>\n      <td>Portland</td>\n      <td>OR</td>\n      <td>97216.0</td>\n      <td>5812</td>\n      <td>None</td>\n      <td>0</td>\n      <td>1577913060000000000</td>\n      <td>2020-01-01 21:11:00</td>\n    </tr>\n    <tr>\n      <th>...</th>\n      <td>...</td>\n      <td>...</td>\n      <td>...</td>\n      <td>...</td>\n      <td>...</td>\n      <td>...</td>\n      <td>...</td>\n      <td>...</td>\n      <td>...</td>\n      <td>...</td>\n      <td>...</td>\n      <td>...</td>\n      <td>...</td>\n      <td>...</td>\n      <td>...</td>\n      <td>...</td>\n      <td>...</td>\n    </tr>\n    <tr>\n      <th>19327343</th>\n      <td>1568</td>\n      <td>0</td>\n      <td>2007</td>\n      <td>8</td>\n      <td>30</td>\n      <td>23:06</td>\n      <td>3.582685</td>\n      <td>Swipe Transaction</td>\n      <td>39884867954317504</td>\n      <td>Elyria</td>\n      <td>OH</td>\n      <td>44035.0</td>\n      <td>5211</td>\n      <td>None</td>\n      <td>0</td>\n      <td>1188515160000000000</td>\n      <td>2007-08-30 23:06:00</td>\n    </tr>\n    <tr>\n      <th>19327344</th>\n      <td>1568</td>\n      <td>0</td>\n      <td>2007</td>\n      <td>8</td>\n      <td>31</td>\n      <td>11:55</td>\n      <td>4.165890</td>\n      <td>Swipe Transaction</td>\n      <td>5410442242122475105</td>\n      <td>Elyria</td>\n      <td>OH</td>\n      <td>44035.0</td>\n      <td>5300</td>\n      <td>None</td>\n      <td>0</td>\n      <td>1188561300000000000</td>\n      <td>2007-08-31 11:55:00</td>\n    </tr>\n    <tr>\n      <th>19327345</th>\n      <td>1568</td>\n      <td>0</td>\n      <td>2007</td>\n      <td>8</td>\n      <td>31</td>\n      <td>12:22</td>\n      <td>4.393214</td>\n      <td>Swipe Transaction</td>\n      <td>-8197168601486490972</td>\n      <td>Elyria</td>\n      <td>OH</td>\n      <td>44035.0</td>\n      <td>5912</td>\n      <td>None</td>\n      <td>0</td>\n      <td>1188562920000000000</td>\n      <td>2007-08-31 12:22:00</td>\n    </tr>\n    <tr>\n      <th>19327346</th>\n      <td>1568</td>\n      <td>0</td>\n      <td>2007</td>\n      <td>8</td>\n      <td>31</td>\n      <td>16:25</td>\n      <td>3.716495</td>\n      <td>Swipe Transaction</td>\n      <td>-5581123930363301609</td>\n      <td>Elyria</td>\n      <td>OH</td>\n      <td>44035.0</td>\n      <td>5311</td>\n      <td>None</td>\n      <td>0</td>\n      <td>1188577500000000000</td>\n      <td>2007-08-31 16:25:00</td>\n    </tr>\n    <tr>\n      <th>19327347</th>\n      <td>1568</td>\n      <td>0</td>\n      <td>2007</td>\n      <td>8</td>\n      <td>31</td>\n      <td>22:25</td>\n      <td>4.068856</td>\n      <td>Swipe Transaction</td>\n      <td>-5904116920141006298</td>\n      <td>North Ridgeville</td>\n      <td>OH</td>\n      <td>44039.0</td>\n      <td>5719</td>\n      <td>None</td>\n      <td>0</td>\n      <td>1188599100000000000</td>\n      <td>2007-08-31 22:25:00</td>\n    </tr>\n  </tbody>\n</table>\n<p>1150 rows × 17 columns</p>\n</div>"
     },
     "execution_count": 25,
     "metadata": {},
     "output_type": "execute_result"
    }
   ],
   "source": [
    "restricted_data"
   ],
   "metadata": {
    "collapsed": false
   }
  },
  {
   "cell_type": "code",
   "execution_count": 26,
   "outputs": [],
   "source": [
    "columns_to_keep = [\n",
    "    \"User\",\n",
    "    \"event_dt\",\n",
    "    \"Card\",\n",
    "    \"TimeStamp\",\n",
    "    \"Amount\",\n",
    "    \"Use Chip\",\n",
    "    \"Merchant Name\",\n",
    "    \"Merchant City\",\n",
    "    \"Merchant State\",\n",
    "    \"Zip\",\n",
    "    \"MCC\",\n",
    "    \"Errors?\",\n",
    "    \"Is Fraud?\",\n",
    "]"
   ],
   "metadata": {
    "collapsed": false
   }
  },
  {
   "cell_type": "code",
   "execution_count": 27,
   "outputs": [],
   "source": [
    "restricted_data = restricted_data[columns_to_keep]"
   ],
   "metadata": {
    "collapsed": false
   }
  },
  {
   "cell_type": "code",
   "execution_count": 28,
   "outputs": [
    {
     "data": {
      "text/plain": "          User            event_dt  Card            TimeStamp    Amount  \\\n149444       7 2020-01-01 06:05:00     0  1577858700000000000  2.086914   \n149445       7 2020-01-01 08:46:00     0  1577868360000000000  1.508512   \n149446       7 2020-01-01 11:20:00     0  1577877600000000000  2.164472   \n149447       7 2020-01-01 11:35:00     0  1577878500000000000  3.257712   \n149448       7 2020-01-01 21:11:00     0  1577913060000000000  2.691921   \n...        ...                 ...   ...                  ...       ...   \n19327343  1568 2007-08-30 23:06:00     0  1188515160000000000  3.582685   \n19327344  1568 2007-08-31 11:55:00     0  1188561300000000000  4.165890   \n19327345  1568 2007-08-31 12:22:00     0  1188562920000000000  4.393214   \n19327346  1568 2007-08-31 16:25:00     0  1188577500000000000  3.716495   \n19327347  1568 2007-08-31 22:25:00     0  1188599100000000000  4.068856   \n\n                   Use Chip        Merchant Name     Merchant City  \\\n149444    Swipe Transaction  2321783215064674866          Portland   \n149445    Swipe Transaction -5162038175624867091          Portland   \n149446    Swipe Transaction  8919682822789039434          Portland   \n149447    Swipe Transaction  8919682822789039434          Portland   \n149448    Swipe Transaction   878534750241365141          Portland   \n...                     ...                  ...               ...   \n19327343  Swipe Transaction    39884867954317504            Elyria   \n19327344  Swipe Transaction  5410442242122475105            Elyria   \n19327345  Swipe Transaction -8197168601486490972            Elyria   \n19327346  Swipe Transaction -5581123930363301609            Elyria   \n19327347  Swipe Transaction -5904116920141006298  North Ridgeville   \n\n         Merchant State      Zip   MCC Errors?  Is Fraud?  \n149444               OR  97214.0  5411    None          0  \n149445               OR  97214.0  5541    None          0  \n149446               OR  97214.0  5814    None          0  \n149447               OR  97214.0  5814    None          0  \n149448               OR  97216.0  5812    None          0  \n...                 ...      ...   ...     ...        ...  \n19327343             OH  44035.0  5211    None          0  \n19327344             OH  44035.0  5300    None          0  \n19327345             OH  44035.0  5912    None          0  \n19327346             OH  44035.0  5311    None          0  \n19327347             OH  44039.0  5719    None          0  \n\n[1150 rows x 13 columns]",
      "text/html": "<div>\n<style scoped>\n    .dataframe tbody tr th:only-of-type {\n        vertical-align: middle;\n    }\n\n    .dataframe tbody tr th {\n        vertical-align: top;\n    }\n\n    .dataframe thead th {\n        text-align: right;\n    }\n</style>\n<table border=\"1\" class=\"dataframe\">\n  <thead>\n    <tr style=\"text-align: right;\">\n      <th></th>\n      <th>User</th>\n      <th>event_dt</th>\n      <th>Card</th>\n      <th>TimeStamp</th>\n      <th>Amount</th>\n      <th>Use Chip</th>\n      <th>Merchant Name</th>\n      <th>Merchant City</th>\n      <th>Merchant State</th>\n      <th>Zip</th>\n      <th>MCC</th>\n      <th>Errors?</th>\n      <th>Is Fraud?</th>\n    </tr>\n  </thead>\n  <tbody>\n    <tr>\n      <th>149444</th>\n      <td>7</td>\n      <td>2020-01-01 06:05:00</td>\n      <td>0</td>\n      <td>1577858700000000000</td>\n      <td>2.086914</td>\n      <td>Swipe Transaction</td>\n      <td>2321783215064674866</td>\n      <td>Portland</td>\n      <td>OR</td>\n      <td>97214.0</td>\n      <td>5411</td>\n      <td>None</td>\n      <td>0</td>\n    </tr>\n    <tr>\n      <th>149445</th>\n      <td>7</td>\n      <td>2020-01-01 08:46:00</td>\n      <td>0</td>\n      <td>1577868360000000000</td>\n      <td>1.508512</td>\n      <td>Swipe Transaction</td>\n      <td>-5162038175624867091</td>\n      <td>Portland</td>\n      <td>OR</td>\n      <td>97214.0</td>\n      <td>5541</td>\n      <td>None</td>\n      <td>0</td>\n    </tr>\n    <tr>\n      <th>149446</th>\n      <td>7</td>\n      <td>2020-01-01 11:20:00</td>\n      <td>0</td>\n      <td>1577877600000000000</td>\n      <td>2.164472</td>\n      <td>Swipe Transaction</td>\n      <td>8919682822789039434</td>\n      <td>Portland</td>\n      <td>OR</td>\n      <td>97214.0</td>\n      <td>5814</td>\n      <td>None</td>\n      <td>0</td>\n    </tr>\n    <tr>\n      <th>149447</th>\n      <td>7</td>\n      <td>2020-01-01 11:35:00</td>\n      <td>0</td>\n      <td>1577878500000000000</td>\n      <td>3.257712</td>\n      <td>Swipe Transaction</td>\n      <td>8919682822789039434</td>\n      <td>Portland</td>\n      <td>OR</td>\n      <td>97214.0</td>\n      <td>5814</td>\n      <td>None</td>\n      <td>0</td>\n    </tr>\n    <tr>\n      <th>149448</th>\n      <td>7</td>\n      <td>2020-01-01 21:11:00</td>\n      <td>0</td>\n      <td>1577913060000000000</td>\n      <td>2.691921</td>\n      <td>Swipe Transaction</td>\n      <td>878534750241365141</td>\n      <td>Portland</td>\n      <td>OR</td>\n      <td>97216.0</td>\n      <td>5812</td>\n      <td>None</td>\n      <td>0</td>\n    </tr>\n    <tr>\n      <th>...</th>\n      <td>...</td>\n      <td>...</td>\n      <td>...</td>\n      <td>...</td>\n      <td>...</td>\n      <td>...</td>\n      <td>...</td>\n      <td>...</td>\n      <td>...</td>\n      <td>...</td>\n      <td>...</td>\n      <td>...</td>\n      <td>...</td>\n    </tr>\n    <tr>\n      <th>19327343</th>\n      <td>1568</td>\n      <td>2007-08-30 23:06:00</td>\n      <td>0</td>\n      <td>1188515160000000000</td>\n      <td>3.582685</td>\n      <td>Swipe Transaction</td>\n      <td>39884867954317504</td>\n      <td>Elyria</td>\n      <td>OH</td>\n      <td>44035.0</td>\n      <td>5211</td>\n      <td>None</td>\n      <td>0</td>\n    </tr>\n    <tr>\n      <th>19327344</th>\n      <td>1568</td>\n      <td>2007-08-31 11:55:00</td>\n      <td>0</td>\n      <td>1188561300000000000</td>\n      <td>4.165890</td>\n      <td>Swipe Transaction</td>\n      <td>5410442242122475105</td>\n      <td>Elyria</td>\n      <td>OH</td>\n      <td>44035.0</td>\n      <td>5300</td>\n      <td>None</td>\n      <td>0</td>\n    </tr>\n    <tr>\n      <th>19327345</th>\n      <td>1568</td>\n      <td>2007-08-31 12:22:00</td>\n      <td>0</td>\n      <td>1188562920000000000</td>\n      <td>4.393214</td>\n      <td>Swipe Transaction</td>\n      <td>-8197168601486490972</td>\n      <td>Elyria</td>\n      <td>OH</td>\n      <td>44035.0</td>\n      <td>5912</td>\n      <td>None</td>\n      <td>0</td>\n    </tr>\n    <tr>\n      <th>19327346</th>\n      <td>1568</td>\n      <td>2007-08-31 16:25:00</td>\n      <td>0</td>\n      <td>1188577500000000000</td>\n      <td>3.716495</td>\n      <td>Swipe Transaction</td>\n      <td>-5581123930363301609</td>\n      <td>Elyria</td>\n      <td>OH</td>\n      <td>44035.0</td>\n      <td>5311</td>\n      <td>None</td>\n      <td>0</td>\n    </tr>\n    <tr>\n      <th>19327347</th>\n      <td>1568</td>\n      <td>2007-08-31 22:25:00</td>\n      <td>0</td>\n      <td>1188599100000000000</td>\n      <td>4.068856</td>\n      <td>Swipe Transaction</td>\n      <td>-5904116920141006298</td>\n      <td>North Ridgeville</td>\n      <td>OH</td>\n      <td>44039.0</td>\n      <td>5719</td>\n      <td>None</td>\n      <td>0</td>\n    </tr>\n  </tbody>\n</table>\n<p>1150 rows × 13 columns</p>\n</div>"
     },
     "execution_count": 28,
     "metadata": {},
     "output_type": "execute_result"
    }
   ],
   "source": [
    "restricted_data"
   ],
   "metadata": {
    "collapsed": false
   }
  },
  {
   "cell_type": "code",
   "execution_count": 29,
   "outputs": [],
   "source": [
    "restricted_data.to_csv(\"test_data.csv\", index=False, encoding=\"utf8\")"
   ],
   "metadata": {
    "collapsed": false
   }
  },
  {
   "cell_type": "code",
   "execution_count": null,
   "outputs": [],
   "source": [],
   "metadata": {
    "collapsed": false
   }
  },
  {
   "cell_type": "code",
   "execution_count": null,
   "outputs": [],
   "source": [],
   "metadata": {
    "collapsed": false
   }
  },
  {
   "cell_type": "code",
   "execution_count": null,
   "outputs": [],
   "source": [],
   "metadata": {
    "collapsed": false
   }
  },
  {
   "cell_type": "code",
   "execution_count": null,
   "outputs": [],
   "source": [],
   "metadata": {
    "collapsed": false
   }
  },
  {
   "cell_type": "code",
   "execution_count": null,
   "outputs": [],
   "source": [],
   "metadata": {
    "collapsed": false
   }
  },
  {
   "cell_type": "code",
   "execution_count": null,
   "outputs": [],
   "source": [],
   "metadata": {
    "collapsed": false
   }
  },
  {
   "cell_type": "code",
   "execution_count": null,
   "outputs": [],
   "source": [],
   "metadata": {
    "collapsed": false
   }
  },
  {
   "cell_type": "code",
   "execution_count": 2,
   "outputs": [],
   "source": [
    "from tabformerlite.dataset.dataset import TabDataset\n",
    "from tabformerlite.misc.tools_for_data_encoding import select_discretization_strategy\n",
    "import json"
   ],
   "metadata": {
    "collapsed": false
   }
  },
  {
   "cell_type": "code",
   "execution_count": 3,
   "outputs": [],
   "source": [
    "data = pd.read_csv(\"test_data/test_data.csv\")"
   ],
   "metadata": {
    "collapsed": false
   }
  },
  {
   "cell_type": "code",
   "execution_count": 3,
   "outputs": [],
   "source": [],
   "metadata": {
    "collapsed": false
   }
  },
  {
   "cell_type": "code",
   "execution_count": 4,
   "outputs": [],
   "source": [
    "import os"
   ],
   "metadata": {
    "collapsed": false
   }
  },
  {
   "cell_type": "code",
   "execution_count": 5,
   "outputs": [
    {
     "name": "stderr",
     "output_type": "stream",
     "text": [
      "2024-01-03 17:06:45.374 | INFO     | __main__:main:42 - Loading the data\n",
      "2024-01-03 17:06:45.377 | INFO     | __main__:main:49 - Data shape: (1563, 13)\n",
      "\n",
      "2024-01-03 17:06:45.379 | INFO     | tabformerlite.misc.tools_for_data_encoding:select_discretization_strategy:96 - Nbr of categorical cols: 4\n",
      "2024-01-03 17:06:45.379 | INFO     | tabformerlite.misc.tools_for_data_encoding:select_discretization_strategy:97 - Nbr of to_quantize_columns: 2\n",
      "2024-01-03 17:06:45.379 | INFO     | tabformerlite.misc.tools_for_data_encoding:select_discretization_strategy:98 - Nbr of cols_no_transform: 4\n",
      "\n",
      "2024-01-03 17:06:45.379 | INFO     | __main__:main:71 - Encoding the dataset\n",
      "Encoding categorical columns: 100%|██████████| 4/4 [00:00<00:00, 1299.05it/s]\n",
      "Encoding quantizable columns: 100%|██████████| 2/2 [00:00<00:00, 1070.11it/s]\n",
      "Vocabulary creation for each column: 100%|██████████| 10/10 [00:00<00:00, 5734.62it/s]\n",
      "Generating data sample indices: 100%|██████████| 5/5 [00:00<00:00, 63358.07it/s]\n",
      "Converting the columns tokens to ids using the vocabulary: 100%|██████████| 10/10 [00:00<00:00, 4185.93it/s]\n",
      "2024-01-03 17:06:45.405 | INFO     | __main__:main:90 - Vocab size: 364\n",
      "\n",
      "2024-01-03 17:06:45.405 | INFO     | __main__:main:101 - Encoded data will be exported in: /Users/yvesl/workspace/PycharmProjects/TabFormer_Cheetah/tests/test_data/data_encoded_seq_len_10_stride_5_bins_10\n",
      "2024-01-03 17:06:45.405 | INFO     | __main__:main:107 - Exporting vocabulary and encoders\n",
      "2024-01-03 17:06:45.407 | INFO     | __main__:main:111 - Exporting processed data\n",
      "2024-01-03 17:06:45.409 | INFO     | __main__:main:115 - Exporting config file\n"
     ]
    },
    {
     "data": {
      "text/plain": "0"
     },
     "execution_count": 5,
     "metadata": {},
     "output_type": "execute_result"
    }
   ],
   "source": [
    "os.system(f'python ../scripts/encode_dataset.py -cfg ./test_configs/test_dataset_encoding.json')"
   ],
   "metadata": {
    "collapsed": false
   }
  },
  {
   "cell_type": "code",
   "execution_count": 5,
   "outputs": [],
   "source": [],
   "metadata": {
    "collapsed": false
   }
  },
  {
   "cell_type": "code",
   "execution_count": 6,
   "outputs": [
    {
     "name": "stderr",
     "output_type": "stream",
     "text": [
      "2024-01-03 17:06:48.076 | INFO     | __main__:main:77 - Output path: ./test_models/pretraining/embedding_size_300\n",
      "\n",
      "2024-01-03 17:06:48.077 | INFO     | __main__:main:90 - Loading encoded dataset\n",
      "\n",
      "2024-01-03 17:06:48.077 | INFO     | tabformerlite.dataset.dataset:__init__:117 - Loading the encoders\n",
      "2024-01-03 17:06:48.077 | INFO     | tabformerlite.dataset.dataset:__init__:132 - Loading the encoded data\n",
      "2024-01-03 17:06:48.078 | INFO     | __main__:main:147 - Creating an instance of the TabFormer model\n",
      "2024-01-03 17:06:48.083 | INFO     | __main__:main:190 - Model parameters:\n",
      "\n",
      "2024-01-03 17:06:48.084 | INFO     | __main__:main:270 - Training arguments and model parameters:\n",
      "\n",
      "  0%|          | 0/2 [00:00<?, ?it/s]"
     ]
    },
    {
     "name": "stdout",
     "output_type": "stream",
     "text": [
      "[   {   'field_hidden_size': 16,\n",
      "        'hidden_size': 8,\n",
      "        'mlm_average_loss': True,\n",
      "        'model_params': 70628,\n",
      "        'model_size (GB)': 0.00027073919773101807,\n",
      "        'ncols': 11,\n",
      "        'num_attention_heads': 2,\n",
      "        'num_hidden_layers': 1,\n",
      "        'tab_embedding_dropout': 0.1,\n",
      "        'tab_embedding_num_encoder_layers': 1,\n",
      "        'tab_embeddings_num_attention_heads': 2,\n",
      "        'vocab_size': 364}]\n",
      "\n",
      "[   {   'batch_size': 256,\n",
      "        'effective batch_size': 256,\n",
      "        'grad_acc_steps': 1,\n",
      "        'logging_steps': 1,\n",
      "        'lr_max': 0.005,\n",
      "        'nbr_gpu': 1,\n",
      "        'num_epochs': 1,\n",
      "        'save_steps': 1,\n",
      "        'scheduler': 'inverse_sqrt_with_warm_up',\n",
      "        'steps per epoch': 1,\n",
      "        'total_steps': 1,\n",
      "        'warm_up_steps': 0},\n",
      "    [   {   'field_hidden_size': 16,\n",
      "            'hidden_size': 8,\n",
      "            'mlm_average_loss': True,\n",
      "            'model_params': 70628,\n",
      "            'model_size (GB)': 0.00027073919773101807,\n",
      "            'ncols': 11,\n",
      "            'num_attention_heads': 2,\n",
      "            'num_hidden_layers': 1,\n",
      "            'tab_embedding_dropout': 0.1,\n",
      "            'tab_embedding_num_encoder_layers': 1,\n",
      "            'tab_embeddings_num_attention_heads': 2,\n",
      "            'vocab_size': 364}]]\n",
      "\n"
     ]
    },
    {
     "name": "stderr",
     "output_type": "stream",
     "text": [
      " 50%|█████     | 1/2 [00:09<00:09,  9.25s/it]"
     ]
    },
    {
     "name": "stdout",
     "output_type": "stream",
     "text": [
      "{'loss': 0.382, 'learning_rate': 0.0, 'epoch': 0.5}\n"
     ]
    },
    {
     "name": "stderr",
     "output_type": "stream",
     "text": [
      "\n",
      "                                             \r\n",
      " 50%|█████     | 1/2 [00:21<00:09,  9.25s/it]\n",
      "100%|██████████| 1/1 [00:00<00:00, 306.94it/s]\u001B[A\n",
      "100%|██████████| 2/2 [00:32<00:00, 17.45s/it] \u001B[A"
     ]
    },
    {
     "name": "stdout",
     "output_type": "stream",
     "text": [
      "{'eval_loss': 0.3589436709880829, 'eval_cross_entropy_loss': 0.7880423665046692, 'eval_accuracy': 0.22033898305084745, 'eval_f1_weighted': 0.23062953995157387, 'eval_f1_macro': 0.0946687370600414, 'eval_recall': 0.09513457556935818, 'eval_precision': 0.1358695652173913, 'eval_runtime': 12.6066, 'eval_samples_per_second': 0.317, 'eval_steps_per_second': 0.079, 'epoch': 0.5}\n",
      "{'loss': 0.3685, 'learning_rate': 0.0, 'epoch': 1.0}\n"
     ]
    },
    {
     "name": "stderr",
     "output_type": "stream",
     "text": [
      "\n",
      "                                             \r\n",
      "100%|██████████| 2/2 [00:44<00:00, 17.45s/it]\n",
      "100%|██████████| 1/1 [00:00<00:00, 196.34it/s]\u001B[A\n",
      "100%|██████████| 2/2 [00:44<00:00, 22.48s/it] \u001B[A\n"
     ]
    },
    {
     "name": "stdout",
     "output_type": "stream",
     "text": [
      "{'eval_loss': 0.39120033383369446, 'eval_cross_entropy_loss': 0.7749226689338684, 'eval_accuracy': 0.1724137931034483, 'eval_f1_weighted': 0.16825396825396827, 'eval_f1_macro': 0.06151542377957473, 'eval_recall': 0.06540880503144654, 'eval_precision': 0.059748427672955975, 'eval_runtime': 12.4537, 'eval_samples_per_second': 0.321, 'eval_steps_per_second': 0.08, 'epoch': 1.0}\n",
      "{'train_runtime': 44.9615, 'train_samples_per_second': 6.717, 'train_steps_per_second': 0.044, 'train_loss': 0.3752405047416687, 'epoch': 1.0}\n"
     ]
    },
    {
     "data": {
      "text/plain": "0"
     },
     "execution_count": 6,
     "metadata": {},
     "output_type": "execute_result"
    }
   ],
   "source": [
    "os.system(f'python ../scripts/run_mlm_pretraining.py -cfg ./test_configs/test_pretraining_config.json')"
   ],
   "metadata": {
    "collapsed": false
   }
  },
  {
   "cell_type": "code",
   "execution_count": null,
   "outputs": [],
   "source": [],
   "metadata": {
    "collapsed": false
   }
  },
  {
   "cell_type": "code",
   "execution_count": 7,
   "outputs": [
    {
     "name": "stderr",
     "output_type": "stream",
     "text": [
      "2024-01-03 17:07:35.696 | INFO     | __main__:main:33 - Collecting information about pre-trained Tabformer model\n",
      "2024-01-03 17:07:35.696 | INFO     | __main__:main:43 - Collecting information about pre-training data\n",
      "\n",
      "2024-01-03 17:07:35.696 | INFO     | tabformerlite.inference.load_data:load_data_for_encoding:38 - Loading inference data - START\n",
      "2024-01-03 17:07:35.700 | INFO     | tabformerlite.inference.load_data:load_data_per_set_type:119 - Imbalance percentage for train set: [1561, 2], [99.87, 0.13]\n",
      "2024-01-03 17:07:35.704 | INFO     | tabformerlite.inference.load_data:load_data_per_set_type:119 - Imbalance percentage for valid set: [1561, 2], [99.87, 0.13]\n",
      "2024-01-03 17:07:35.709 | INFO     | tabformerlite.inference.load_data:load_data_per_set_type:119 - Imbalance percentage for test set: [1561, 2], [99.87, 0.13]\n",
      "2024-01-03 17:07:35.710 | INFO     | tabformerlite.inference.load_data:load_data_for_encoding:56 - Training set shape: (1563, 13)\n",
      "2024-01-03 17:07:35.710 | INFO     | tabformerlite.inference.load_data:load_data_for_encoding:57 - Validation set shape: (1563, 13)\n",
      "2024-01-03 17:07:35.710 | INFO     | tabformerlite.inference.load_data:load_data_for_encoding:58 - Test set shape: (1563, 13)\n",
      "2024-01-03 17:07:35.710 | INFO     | tabformerlite.inference.load_data:load_data_for_encoding:59 - Loading inference data - END\n",
      "\n",
      "2024-01-03 17:07:35.710 | INFO     | __main__:main:57 - Creating TabDataset for the training data - START\n",
      "2024-01-03 17:07:35.711 | INFO     | tabformerlite.dataset.dataset:__init__:117 - Loading the encoders\n",
      "Encoding categorical columns: 100%|██████████| 4/4 [00:00<00:00, 1313.70it/s]\n",
      "Encoding quantizable columns: 100%|██████████| 2/2 [00:00<00:00, 1343.25it/s]\n",
      "Generating data sample indices: 100%|██████████| 5/5 [00:00<00:00, 12249.72it/s]\n",
      "Converting the columns tokens to ids using the vocabulary: 100%|██████████| 10/10 [00:00<00:00, 3990.39it/s]\n",
      "2024-01-03 17:07:35.731 | INFO     | tabformerlite.inference.encode_data:encode:115 - length: 1518\n",
      "2024-01-03 17:07:35.731 | INFO     | __main__:main:59 - Creating TabDataset for the training data - END\n",
      "\n",
      "2024-01-03 17:07:35.731 | INFO     | __main__:main:61 - Creating TabDataset for the validation data - START\n",
      "2024-01-03 17:07:35.732 | INFO     | tabformerlite.dataset.dataset:__init__:117 - Loading the encoders\n",
      "Encoding categorical columns: 100%|██████████| 4/4 [00:00<00:00, 3212.80it/s]\n",
      "Encoding quantizable columns: 100%|██████████| 2/2 [00:00<00:00, 1835.58it/s]\n",
      "Generating data sample indices: 100%|██████████| 5/5 [00:00<00:00, 4029.11it/s]\n",
      "Converting the columns tokens to ids using the vocabulary: 100%|██████████| 10/10 [00:00<00:00, 4271.62it/s]\n",
      "2024-01-03 17:07:35.742 | INFO     | tabformerlite.inference.encode_data:encode:115 - length: 1518\n",
      "2024-01-03 17:07:35.742 | INFO     | __main__:main:63 - Creating TabDataset for the validation data - END\n",
      "\n",
      "2024-01-03 17:07:35.742 | INFO     | __main__:main:65 - Creating TabDataset for the test data - START\n",
      "2024-01-03 17:07:35.743 | INFO     | tabformerlite.dataset.dataset:__init__:117 - Loading the encoders\n",
      "Encoding categorical columns: 100%|██████████| 4/4 [00:00<00:00, 2943.37it/s]\n",
      "Encoding quantizable columns: 100%|██████████| 2/2 [00:00<00:00, 1741.82it/s]\n",
      "Generating data sample indices: 100%|██████████| 5/5 [00:00<00:00, 14706.54it/s]\n",
      "Converting the columns tokens to ids using the vocabulary: 100%|██████████| 10/10 [00:00<00:00, 4800.62it/s]\n",
      "2024-01-03 17:07:35.752 | INFO     | tabformerlite.inference.encode_data:encode:115 - length: 1518\n",
      "2024-01-03 17:07:35.752 | INFO     | __main__:main:67 - Creating TabDataset for the test data - END\n",
      "\n",
      "2024-01-03 17:07:35.752 | INFO     | tabformerlite.inference.encode_data:load_vocab_and_special_tokens:125 - Extracting vocabulary and special tokens - START\n",
      "2024-01-03 17:07:35.752 | INFO     | tabformerlite.inference.encode_data:load_vocab_and_special_tokens:135 - ncols: 11\n",
      "2024-01-03 17:07:35.752 | INFO     | tabformerlite.inference.encode_data:load_vocab_and_special_tokens:136 - custom_special_tokens: {'unk_token': 'SPECIAL_[UNK]', 'sep_token': 'SPECIAL_[SEP]', 'pad_token': 'SPECIAL_[PAD]', 'cls_token': 'SPECIAL_[CLS]', 'mask_token': 'SPECIAL_[MASK]', 'bos_token': 'SPECIAL_[BOS]', 'eos_token': 'SPECIAL_[EOS]'}\n",
      "2024-01-03 17:07:35.752 | INFO     | tabformerlite.inference.encode_data:load_vocab_and_special_tokens:137 - Vocab size: 364\n",
      "2024-01-03 17:07:35.752 | INFO     | tabformerlite.inference.encode_data:load_vocab_and_special_tokens:138 - Extracting vocabulary and special tokens - END\n",
      "\n",
      "2024-01-03 17:07:35.753 | INFO     | tabformerlite.inference.load_model:from_pretrained:184 - Loading TabFormer model - START\n",
      "2024-01-03 17:07:35.758 | INFO     | tabformerlite.inference.load_model:from_pretrained:201 - Loading weights from pretrained model\n",
      "\n",
      "2024-01-03 17:07:35.758 | INFO     | tabformerlite.inference.load_model:load_weights_from_ckpt:150 - Loading weights from checkpoint: /Users/yvesl/workspace/PycharmProjects/TabFormer_Cheetah/tests/test_models/pretraining/embedding_size_300/checkpoint-2\n",
      "2024-01-03 17:07:35.760 | INFO     | tabformerlite.inference.load_model:to_device:171 - Sending model to cpu device.\n",
      "2024-01-03 17:07:35.760 | INFO     | tabformerlite.inference.load_model:from_pretrained:207 - Loading TabFormer model - END\n",
      "\n",
      "2024-01-03 17:07:35.760 | INFO     | __main__:main:77 - Extracting embeddings - START\n",
      "2024-01-03 17:07:35.760 | INFO     | tabformerlite.inference.extract_embeddings:__init__:227 - Strategy for pooling on layer axis: single_layer_pooling\n",
      "2024-01-03 17:07:35.760 | INFO     | tabformerlite.inference.extract_embeddings:__init__:231 - Pooling layer used: -1\n",
      "2024-01-03 17:07:35.760 | INFO     | tabformerlite.inference.extract_embeddings:__init__:235 - Strategy for pooling on time axis: mean_pooling\n",
      "2024-01-03 17:07:35.760 | INFO     | tabformerlite.inference.extract_embeddings:__init__:237 - time_pooling_nb_days: 10\n",
      "\n",
      "2024-01-03 17:07:35.760 | INFO     | __main__:main:81 - Extracting embeddings for the training data - START\n",
      "100%|██████████| 2/2 [00:00<00:00, 14.46it/s]\n",
      "2024-01-03 17:07:35.902 | INFO     | __main__:main:83 - Embeddings for training data shape: 1518\n",
      "2024-01-03 17:07:35.902 | INFO     | __main__:main:84 - Extracting embeddings for the training data - END\n",
      "\n",
      "2024-01-03 17:07:35.902 | INFO     | __main__:main:87 - Extracting embeddings for the validation data - START\n",
      "100%|██████████| 2/2 [00:00<00:00, 16.65it/s]\n",
      "2024-01-03 17:07:36.025 | INFO     | __main__:main:89 - Embeddings for validation data shape: 1518\n",
      "2024-01-03 17:07:36.025 | INFO     | __main__:main:90 - Extracting embeddings for the validation data - END\n",
      "\n",
      "2024-01-03 17:07:36.025 | INFO     | __main__:main:93 - Extracting embeddings for the test data - START\n",
      "100%|██████████| 2/2 [00:00<00:00, 16.66it/s]\n",
      "2024-01-03 17:07:36.148 | INFO     | __main__:main:95 - Embeddings for test data shape: 1518\n",
      "2024-01-03 17:07:36.148 | INFO     | __main__:main:96 - Extracting embeddings for the test data - END\n",
      "\n",
      "2024-01-03 17:07:36.148 | INFO     | __main__:main:100 - Extracting embeddings - END\n",
      "\n",
      "2024-01-03 17:07:36.148 | INFO     | tabformerlite.inference.export_downstream_data:export_data:38 - Exporting embeddings with labels for downstream tasks - START\n",
      "2024-01-03 17:07:36.179 | INFO     | tabformerlite.inference.export_downstream_data:export_data:49 - Data shape: (13752, 11)\n",
      "2024-01-03 17:07:36.180 | INFO     | tabformerlite.inference.export_downstream_data:export_data:56 - Output file name: /Users/yvesl/workspace/PycharmProjects/TabFormer_Cheetah/tests/test_data/inference_output/embedding_size_300/checkpoint-2_last_hidden_single_layer_pooling_10_days_mean_pooling.parquet\n",
      "2024-01-03 17:07:36.205 | INFO     | tabformerlite.inference.export_downstream_data:export_data:80 - Exporting embeddings with labels for downstream tasks - END\n",
      "\n"
     ]
    },
    {
     "data": {
      "text/plain": "0"
     },
     "execution_count": 7,
     "metadata": {},
     "output_type": "execute_result"
    }
   ],
   "source": [
    "os.system(\"poetry run python ../scripts/inference_main.py -cfg ./test_configs/test_inference_config.json\")"
   ],
   "metadata": {
    "collapsed": false
   }
  },
  {
   "cell_type": "code",
   "execution_count": 7,
   "outputs": [],
   "source": [],
   "metadata": {
    "collapsed": false
   }
  },
  {
   "cell_type": "code",
   "execution_count": null,
   "outputs": [],
   "source": [],
   "metadata": {
    "collapsed": false
   }
  }
 ],
 "metadata": {
  "kernelspec": {
   "display_name": "Python 3",
   "language": "python",
   "name": "python3"
  },
  "language_info": {
   "codemirror_mode": {
    "name": "ipython",
    "version": 2
   },
   "file_extension": ".py",
   "mimetype": "text/x-python",
   "name": "python",
   "nbconvert_exporter": "python",
   "pygments_lexer": "ipython2",
   "version": "2.7.6"
  }
 },
 "nbformat": 4,
 "nbformat_minor": 0
}
